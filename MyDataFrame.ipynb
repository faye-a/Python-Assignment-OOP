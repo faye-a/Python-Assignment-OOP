{
 "cells": [
  {
   "cell_type": "markdown",
   "metadata": {},
   "source": [
    "## Assignment 2 - MyDataFrame"
   ]
  },
  {
   "cell_type": "markdown",
   "metadata": {},
   "source": [
    "### Note:\n",
    "* The answer is split into two seperate classes: MySeries and MyDataFrames\n",
    "* MySeries __init__ has error checkings and uses if and else statements to check execute the code according to the arguments given\n",
    "* MySeries methods min, max, and mean differs from MyDataFrame class as the code is designed in a way that only takes the small dictionaries (such as d = {'b': 1, 'a': 0, 'c': 2} ) and not d = [{'Sun Hours': [4.5,4.0,5.1,5], 'Max Temp' [19.6,19.1,19.6,20.0], 'Min Temp': [12.7,12.5,13.3,12.1], 'Rain (mm)': [82,109,65,76],'Rain Days': [13,20,10,9.7]}] ) and such, I used the sorted function to find the max and min values in the dictionary for example. For mean I followed a similar approach to how I designed the mean method in MyDataFrames class.\n",
    "* MyDataFrames takes two parameters when initialised, where the second argument takes a dictionary **kwargs.\n",
    "* imported statistics to use the in built function statistics.mean\n"
   ]
  },
  {
   "cell_type": "code",
   "execution_count": null,
   "metadata": {},
   "outputs": [],
   "source": [
    "import statistics"
   ]
  },
  {
   "cell_type": "code",
   "execution_count": null,
   "metadata": {},
   "outputs": [],
   "source": [
    "class MySeries():\n",
    "    def __init__ (self, lists, **kwargs):\n",
    "        #lists takes the list\n",
    "        self._list = lists\n",
    "        self._index = kwargs\n",
    "        #initiates a dictionary\n",
    "        self.s_dict = {}\n",
    "        #checks if the first argument given is a dictionary\n",
    "        if isinstance(self._list, dict):\n",
    "            self.s_dict = self._list\n",
    "        \n",
    "        elif isinstance(self._list, list):\n",
    "            #newindex creates a new list to put in numbers based on the length of the list given\n",
    "            self.newindex = []\n",
    "            #checks if index exists\n",
    "            if self._index == {}:\n",
    "                for i in range(len(self._list)):\n",
    "                    self.newindex += [i]\n",
    "                #creates a list within a list\n",
    "                self.listuple = tuple(zip(self.newindex, self._list))\n",
    "                self.s_dict = dict(self.listuple)\n",
    "            #checks if a variable index is given\n",
    "            elif self._index != {}:\n",
    "                if \"index\" in self._index:\n",
    "                    for val in self._index['index']:\n",
    "                        self.newindex += [val]\n",
    "                    self.listuple = tuple(zip(self.newindex, self._list))\n",
    "                    self.s_dict = dict(self.listuple)\n",
    "        else:\n",
    "            print('Error. You did not enter a list or a dictionary. Please try again.')\n",
    "          \n",
    "    def min(self):\n",
    "        #gets value of each key and store them in a list\n",
    "        self.s_values = self.s_dict.values()\n",
    "        #sort the list from min to max order\n",
    "        self.min_sort = sorted(self.s_values, reverse=False)\n",
    "        #gets each key and stores them into a list\n",
    "        self.min_key = [key for key in self.s_dict]\n",
    "        #create a tuple from list within a list\n",
    "        self.listuple = tuple(zip(self.min_key, self.min_sort))\n",
    "        for row, value in self.listuple:\n",
    "            print(row, \" \", value)\n",
    "            \n",
    "    def max(self):\n",
    "        #gets value of each key and store them in a list\n",
    "        self.s_values = self.s_dict.values()\n",
    "        #sort the list from max to min order\n",
    "        self.max_sort = sorted(self.s_values, reverse=True)\n",
    "        #gets each key and stores them into a list\n",
    "        self.max_key = [key for key in self.s_dict]\n",
    "        #create a tuple from list within a list\n",
    "        self.listuple = tuple(zip(self.max_key, self.max_sort))\n",
    "        for row, value in self.listuple:\n",
    "            print(row, \" \", value)\n",
    "            \n",
    "    def mean(self):\n",
    "        self.s_values = self.s_dict.values()\n",
    "        self.mean = []\n",
    "        for i in self.s_values:\n",
    "            self.mean += [i]\n",
    "        print('{0} {1}'.format('mean: ', sum(self.mean)/len(self.mean)))\n",
    "            \n",
    "    def print(self):\n",
    "        #store values of the dictionary in a list\n",
    "        self.d_values = [values for values in self.s_dict.values()]\n",
    "        #store key of the dictionary in a list\n",
    "        self.d_keys = [keys for keys in self.s_dict]\n",
    "        #use tuple and zip functtion\n",
    "        for key, value in zip(self.d_keys, self.d_values):\n",
    "            print(\"{:>2}{:>5}\".format(key, value))\n",
    "            \n",
    "    def item_at_ind(self, key):\n",
    "        #error checking\n",
    "        try:\n",
    "            self.key = key\n",
    "            return self.s_dict[key]\n",
    "        except:\n",
    "            print('Error. The key you entered does not exist in the dictionary.')"
   ]
  },
  {
   "cell_type": "code",
   "execution_count": null,
   "metadata": {},
   "outputs": [],
   "source": [
    "d = {'b': 1, 'a': 0, 'c': 2} "
   ]
  },
  {
   "cell_type": "code",
   "execution_count": null,
   "metadata": {},
   "outputs": [],
   "source": [
    "s2 = MySeries(d) \n",
    "s2.s_dict"
   ]
  },
  {
   "cell_type": "code",
   "execution_count": null,
   "metadata": {},
   "outputs": [],
   "source": [
    "ms4 = MySeries([4,5,6]) \n",
    "ms4.s_dict"
   ]
  },
  {
   "cell_type": "code",
   "execution_count": null,
   "metadata": {},
   "outputs": [],
   "source": [
    "ms3 = MySeries([1,2,1], index = ['a','b','c']) \n",
    "ms3.s_dict"
   ]
  },
  {
   "cell_type": "code",
   "execution_count": null,
   "metadata": {},
   "outputs": [],
   "source": [
    "s2.min()"
   ]
  },
  {
   "cell_type": "code",
   "execution_count": null,
   "metadata": {},
   "outputs": [],
   "source": [
    "s2.mean()"
   ]
  },
  {
   "cell_type": "code",
   "execution_count": null,
   "metadata": {},
   "outputs": [],
   "source": [
    "ms4.min()"
   ]
  },
  {
   "cell_type": "code",
   "execution_count": null,
   "metadata": {},
   "outputs": [],
   "source": [
    "ms3.min()"
   ]
  },
  {
   "cell_type": "code",
   "execution_count": null,
   "metadata": {},
   "outputs": [],
   "source": [
    "s2.max()"
   ]
  },
  {
   "cell_type": "code",
   "execution_count": null,
   "metadata": {},
   "outputs": [],
   "source": [
    "ms4.max()"
   ]
  },
  {
   "cell_type": "code",
   "execution_count": null,
   "metadata": {},
   "outputs": [],
   "source": [
    "ms3.max()"
   ]
  },
  {
   "cell_type": "code",
   "execution_count": null,
   "metadata": {},
   "outputs": [],
   "source": [
    "s2.print()"
   ]
  },
  {
   "cell_type": "code",
   "execution_count": null,
   "metadata": {},
   "outputs": [],
   "source": [
    "ms4.print()"
   ]
  },
  {
   "cell_type": "code",
   "execution_count": null,
   "metadata": {},
   "outputs": [],
   "source": [
    "ms3.print()"
   ]
  },
  {
   "cell_type": "code",
   "execution_count": null,
   "metadata": {},
   "outputs": [],
   "source": [
    "#error checking \n",
    "ms3.item_at_ind('g')"
   ]
  },
  {
   "cell_type": "code",
   "execution_count": null,
   "metadata": {},
   "outputs": [],
   "source": [
    "ms3.item_at_ind('c')"
   ]
  },
  {
   "cell_type": "code",
   "execution_count": null,
   "metadata": {},
   "outputs": [],
   "source": [
    "class MyDataFrame():\n",
    "    def __init__ (self, lists, **kwargs):\n",
    "        try:\n",
    "            self.d_lists = lists\n",
    "            self.d_index = kwargs\n",
    "            #calls MySeries class to get the returned dictionary\n",
    "            self._myseries = [MySeries(lists) for i in range(len(self.d_lists))]\n",
    "        \n",
    "            #list comprehension to access each object (this should return the dictionaries)\n",
    "            self.dictionaries = [self._myseries[i].s_dict for i in range(len(self._myseries))]\n",
    "            #list comprehension to get one of the dictionaries and store them in a list\n",
    "            self.one_list = [self.dictionaries[0][k] for k in self.dictionaries[0]]\n",
    "            for l in self.one_list:\n",
    "                self.one_dictionary = l\n",
    "            #list comprehension to get the keys of each object\n",
    "            self.keys = [j for j in self.one_dictionary]\n",
    "            #initiating list to get all of the lists in the keys\n",
    "            self.value = []\n",
    "            for m in self.keys:\n",
    "                self.value += [self.one_dictionary[m]]\n",
    "            #initiating a list for all of the values indexed of the dictionary in a list\n",
    "            self.all_values = []\n",
    "            #initiating list for the rows in table\n",
    "            self.rows = []\n",
    "        \n",
    "            #getting all values of dictionary \n",
    "            #check is self.d_kwargs is empty\n",
    "            #for loop to get all of the values to be indexed in order\n",
    "            for n in range(len(self.value[0])):\n",
    "                self.all_values += [o[n] for o in self.value]\n",
    "            for p in range(0, len(self.all_values), len(self.value)):\n",
    "                self.rows += [self.all_values[p:p+len(self.value)]]\n",
    "            \n",
    "            #implement a new list that takes puts in the index\n",
    "            if self.d_index != None:\n",
    "                #print('entering this if statement...')\n",
    "                #new list initation for values of the the kwargs\n",
    "                self.dd_index = []\n",
    "                #get key of self.d_index\n",
    "                for v in self.d_index:\n",
    "                    self.dd_index += [w for w in self.d_index[v]]\n",
    "                #a new variable to add index to the list of self.rows\n",
    "                self.new_list_values = [self.dd_index] + self.value\n",
    "\n",
    "                self.new_indexed_values = []\n",
    "                #for loop to add these indexed values\n",
    "                for i in range(len(self.new_list_values[0])):\n",
    "                    self.new_indexed_values += [j[i] for j in self.new_list_values]\n",
    "                \n",
    "                self.new_rows = []\n",
    "                for k in range(0, len(self.new_indexed_values), len(self.new_list_values)):\n",
    "                    self.new_rows += [self.new_indexed_values[k:k+len(self.new_list_values)]]\n",
    "        except:\n",
    "            print('There was an error while processing the dataframe.')\n",
    "            \n",
    "    def sort_values(self, tosort):\n",
    "        if tosort in self.keys:\n",
    "            #getting the index of tosort so that it can be used for the lambda function\n",
    "            self.sort_index = self.keys.index(tosort)\n",
    "            if self.d_index != {}:\n",
    "                #putting +1 because there is an extra value at the start of the lists\n",
    "                self.new_rows.sort(key = lambda new_rows: new_rows[self.sort_index + 1])\n",
    "            else:\n",
    "                self.rows.sort(key = lambda rows: rows[self.sort_index])\n",
    "        else:\n",
    "            print('Error. The key you wish to sort by does not exist in the dictionary given.')\n",
    "    \n",
    "    def print(self):\n",
    "        #setting the format of the table, calculates the length of self.keys + 1 \n",
    "        row_format =\"{:>15}\" * (len(self.keys) + 1)\n",
    "        if self.d_index != {}:\n",
    "            print(row_format.format(\"\", *self.keys))\n",
    "            for rows in self.new_rows:\n",
    "                print(row_format.format(*rows))\n",
    "        else:\n",
    "            print(row_format.format(\"\", *self.keys))\n",
    "            for row in self.rows:\n",
    "                print(row_format.format(\"\", *row))\n",
    "    \n",
    "    def mean(self):\n",
    "         #initialize a list to keep the min values\n",
    "        self.mean = []\n",
    "        for u in self.keys:\n",
    "            #checks each key value if they have numbers in them\n",
    "            if isinstance(self.one_dictionary[u][0], int) or isinstance(self.one_dictionary[u][0], float):\n",
    "                self.mean += [statistics.mean(self.one_dictionary[u])]\n",
    "        #print the results!\n",
    "        for key, val in tuple(zip(self.keys, self.mean)):\n",
    "            print('%s  %.2f' % (key, float(val)))\n",
    "            \n",
    "    def min(self):\n",
    "        #initialize a list to keep the min values\n",
    "        self.min = []\n",
    "        for u in self.keys:\n",
    "            #checks each key value if they have numbers in them\n",
    "            if isinstance(self.one_dictionary[u][0], int) or isinstance(self.one_dictionary[u][0], float):\n",
    "                self.min += [min(self.one_dictionary[u])]\n",
    "        #print the results!\n",
    "        for key, val in tuple(zip(self.keys, self.min)):\n",
    "            print('%s  %.2f' % (key, float(val)))\n",
    "    \n",
    "    def max(self):\n",
    "         #initialize a list to keep the max values\n",
    "        self.max = []\n",
    "        for u in self.keys:\n",
    "            #checks each key value if they have numbers in them\n",
    "            if isinstance(self.one_dictionary[u][0], int) or isinstance(self.one_dictionary[u][0], float):\n",
    "                self.max += [max(self.one_dictionary[u])]\n",
    "        #print the results!\n",
    "        for key, val in tuple(zip(self.keys, self.max)):\n",
    "            print('%s  %.2f' % (key, float(val)))"
   ]
  },
  {
   "cell_type": "code",
   "execution_count": null,
   "metadata": {},
   "outputs": [],
   "source": [
    "#error checking initiation\n",
    "df1 = MyDataFrame('')"
   ]
  },
  {
   "cell_type": "code",
   "execution_count": null,
   "metadata": {},
   "outputs": [],
   "source": [
    "d = [{'Sun Hours': [4.5,4.0,5.1,5],\n",
    " 'Max Temp': [19.6,19.1,19.6,20.0],\n",
    " 'Min Temp': [12.7,12.5,13.3,12.1],\n",
    " 'Rain (mm)': [82,109,65,76],\n",
    " 'Rain Days': [13,20,10,9.7]}]\n",
    "df1 = MyDataFrame(d)\n",
    "df2 = MyDataFrame(d, index = ['Clare', 'Galway','Dublin', 'Wexford'])"
   ]
  },
  {
   "cell_type": "code",
   "execution_count": null,
   "metadata": {},
   "outputs": [],
   "source": [
    "df1.print()"
   ]
  },
  {
   "cell_type": "code",
   "execution_count": null,
   "metadata": {},
   "outputs": [],
   "source": [
    "df2.print()"
   ]
  },
  {
   "cell_type": "code",
   "execution_count": null,
   "metadata": {},
   "outputs": [],
   "source": [
    "#error checking for sort_value method\n",
    "df1.sort_values('Check')"
   ]
  },
  {
   "cell_type": "code",
   "execution_count": null,
   "metadata": {},
   "outputs": [],
   "source": [
    "df1.sort_values('Rain (mm)')\n",
    "df1.print()"
   ]
  },
  {
   "cell_type": "code",
   "execution_count": null,
   "metadata": {},
   "outputs": [],
   "source": [
    "df2.sort_values('Rain (mm)')\n",
    "df2.print()"
   ]
  },
  {
   "cell_type": "code",
   "execution_count": null,
   "metadata": {},
   "outputs": [],
   "source": [
    "df1.min()"
   ]
  },
  {
   "cell_type": "code",
   "execution_count": null,
   "metadata": {},
   "outputs": [],
   "source": [
    "df1.max()"
   ]
  },
  {
   "cell_type": "code",
   "execution_count": null,
   "metadata": {},
   "outputs": [],
   "source": [
    "df1.mean()"
   ]
  },
  {
   "cell_type": "code",
   "execution_count": null,
   "metadata": {},
   "outputs": [],
   "source": [
    "films = [{'Rank': [112,62,41,172,230,176],\n",
    " 'Release Year': [1973,1980,1960,2015,1976,1996],\n",
    " 'IMDB Rating': [8.3,8.4,8.5,8.1,8.1,8.1],\n",
    " 'Time (minutes)': [129,146,109,118,120,98],\n",
    " 'Main Genre': ['Comedy','Horror','Horror','Drama','Drama','Drama']}]\n",
    "f_names = ['Sting','Shining', 'Psycho','Room','Rocky','Fargo']\n",
    "films_df = MyDataFrame(films, index = f_names)"
   ]
  },
  {
   "cell_type": "code",
   "execution_count": null,
   "metadata": {},
   "outputs": [],
   "source": [
    "films_df.print()"
   ]
  },
  {
   "cell_type": "code",
   "execution_count": null,
   "metadata": {
    "scrolled": true
   },
   "outputs": [],
   "source": [
    "films_df.min()"
   ]
  },
  {
   "cell_type": "code",
   "execution_count": null,
   "metadata": {
    "scrolled": true
   },
   "outputs": [],
   "source": [
    "films_df.max()"
   ]
  },
  {
   "cell_type": "code",
   "execution_count": null,
   "metadata": {},
   "outputs": [],
   "source": [
    "films_df.mean()"
   ]
  },
  {
   "cell_type": "code",
   "execution_count": null,
   "metadata": {},
   "outputs": [],
   "source": [
    "films_df.sort_values('Release Year')\n",
    "films_df.print()"
   ]
  },
  {
   "cell_type": "code",
   "execution_count": null,
   "metadata": {},
   "outputs": [],
   "source": [
    "#error checking sort_values method for films_df\n",
    "films_df.sort_values('checking..')"
   ]
  }
 ],
 "metadata": {
  "kernelspec": {
   "display_name": "Python 3",
   "language": "python",
   "name": "python3"
  },
  "language_info": {
   "codemirror_mode": {
    "name": "ipython",
    "version": 3
   },
   "file_extension": ".py",
   "mimetype": "text/x-python",
   "name": "python",
   "nbconvert_exporter": "python",
   "pygments_lexer": "ipython3",
   "version": "3.8.3"
  }
 },
 "nbformat": 4,
 "nbformat_minor": 4
}
