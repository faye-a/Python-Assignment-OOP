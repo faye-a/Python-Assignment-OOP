{
 "cells": [
  {
   "cell_type": "markdown",
   "metadata": {},
   "source": [
    "# Kitty Assignment"
   ]
  },
  {
   "cell_type": "markdown",
   "metadata": {},
   "source": [
    "* There are 3 classes in total.\n",
    "* Event has 2 class variables that takes values from methods from sublclass Transaction\n",
    "* Event calculates the reconciliation\n",
    "* Transaction handles the input of transactions and stores them into a dictionary \n",
    "* Transaction also calculates how much each person has spent money\n",
    "* Member takes the names of the people attending"
   ]
  },
  {
   "cell_type": "code",
   "execution_count": null,
   "metadata": {},
   "outputs": [],
   "source": [
    "class Event:\n",
    "    #class variable is used for child classes to transfer values into them\n",
    "    totalcost = 0\n",
    "    eachcost = []\n",
    "    def __init__(self, eventname):\n",
    "        self.eventname = eventname\n",
    "    \n",
    "    #calculates the equal pay and who owes who what\n",
    "    def reconciliation(self):\n",
    "        tot = Event.totalcost\n",
    "        members = Event.eachcost\n",
    "        cost_member = tot/len(members)\n",
    "        self.debt = []\n",
    "        self.credits = []\n",
    "        self.balancelist = []\n",
    "        \n",
    "        #printing the total and cost of each\n",
    "        print('Total: €{0}.00, that is €{1} each.\\n'.format(tot, cost_member))\n",
    "        \n",
    "        #who is in debt? who isnt?\n",
    "        for m in members:\n",
    "            #m[1] takes the total of each transaction of each person\n",
    "            balance = m[1] - cost_member\n",
    "            m[1] = balance\n",
    "            self.balancelist += [[m[0], balance]]\n",
    "            if balance < 0:\n",
    "                self.debt.append(m)\n",
    "            else:\n",
    "                self.credits.append(m)\n",
    "        \n",
    "        for n in self.balancelist:\n",
    "            print('{0} has balance €{1}.'.format(n[0],n[1]))\n",
    "        print()\n",
    "        \n",
    "        #calculating how someone pays back\n",
    "        #used indexing to access the values in the list\n",
    "        for d in self.debt:\n",
    "            for c in self.credits:\n",
    "                if d[1] <= -c[1]:\n",
    "                    payment = c[1]\n",
    "                    d[1] += c[1]\n",
    "                    c[1] = 0\n",
    "                else:\n",
    "                    payment = -d[1]\n",
    "                    c[1] += d[1]\n",
    "                    d[1] = 0\n",
    "                if payment > 0:\n",
    "                    #used .format for payment, index list is non subscriptable\n",
    "                    print(d[0],'pays', c[0], '€{0}0.'.format(payment))\n",
    "    \n",
    "class Transaction(Event):\n",
    "    def __init__(self, names):\n",
    "        self.names = {x.name for x in names}\n",
    "        self.fulltrans = {x.name: [] for x in names}\n",
    "    \n",
    "    def add_transaction(self, trans_name, price, memberId):\n",
    "        Event.totalcost += price\n",
    "        self.trans_name = trans_name\n",
    "        self.price = price\n",
    "        self.memberId = memberId\n",
    "        #ensures price input is > 0\n",
    "        if price > 0:\n",
    "            #checks that the person is in the event\n",
    "            if memberId in self.names:\n",
    "                self.fulltrans[memberId].append([trans_name, price])\n",
    "                print('{0} paid for {1} - €{2}.00'.format(memberId, trans_name, price))\n",
    "            else:\n",
    "                print(self.memberId, \"is not in this event. Please try again.\")\n",
    "        else:\n",
    "            print('Error when adding transaction. Number must be greater than 0.')\n",
    "        \n",
    "    def eachcost(self):\n",
    "        self.listeach = []\n",
    "        for k in self.fulltrans.keys():\n",
    "            c = sum([y[1] for y in self.fulltrans[k]])\n",
    "            self.listeach += [[k,c]]\n",
    "        Event.eachcost += self.listeach\n",
    "        return self.listeach\n",
    "     \n",
    "class Member(Event):\n",
    "    def __init__ (self, name):\n",
    "        self.name = name\n",
    "        "
   ]
  },
  {
   "cell_type": "markdown",
   "metadata": {},
   "source": [
    "### ---"
   ]
  },
  {
   "cell_type": "code",
   "execution_count": null,
   "metadata": {},
   "outputs": [],
   "source": [
    "b = Member('Cathy')\n",
    "d = Member('Robin')\n",
    "s = Member('Jen')\n",
    "g = Member('Jonn') #extra member\n",
    "x = Event('concert')\n",
    "y = Transaction([b,d,s])"
   ]
  },
  {
   "cell_type": "code",
   "execution_count": null,
   "metadata": {},
   "outputs": [],
   "source": [
    "y.add_transaction('tickets',33,'Jen')\n",
    "y.add_transaction('dinner',60,'Robin')\n",
    "y.add_transaction('tickets',33,'Cathy')\n",
    "y.add_transaction('drinks',21,'Jen')\n",
    "y.add_transaction('taxi',27,'Jen')"
   ]
  },
  {
   "cell_type": "code",
   "execution_count": null,
   "metadata": {},
   "outputs": [],
   "source": [
    "y.fulltrans"
   ]
  },
  {
   "cell_type": "code",
   "execution_count": null,
   "metadata": {},
   "outputs": [],
   "source": [
    "y.eachcost()"
   ]
  },
  {
   "cell_type": "code",
   "execution_count": null,
   "metadata": {},
   "outputs": [],
   "source": [
    "x.eachcost"
   ]
  },
  {
   "cell_type": "code",
   "execution_count": null,
   "metadata": {},
   "outputs": [],
   "source": [
    "x.reconciliation()"
   ]
  },
  {
   "cell_type": "code",
   "execution_count": null,
   "metadata": {},
   "outputs": [],
   "source": []
  }
 ],
 "metadata": {
  "kernelspec": {
   "display_name": "Python 3",
   "language": "python",
   "name": "python3"
  },
  "language_info": {
   "codemirror_mode": {
    "name": "ipython",
    "version": 3
   },
   "file_extension": ".py",
   "mimetype": "text/x-python",
   "name": "python",
   "nbconvert_exporter": "python",
   "pygments_lexer": "ipython3",
   "version": "3.8.3"
  }
 },
 "nbformat": 4,
 "nbformat_minor": 4
}
